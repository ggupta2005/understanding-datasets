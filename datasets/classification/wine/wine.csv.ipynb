{
 "cells": [
  {
   "cell_type": "markdown",
   "id": "0d5f1309",
   "metadata": {},
   "source": [
    "# Understanding the data in datasets/classification/wine/wine.csv"
   ]
  },
  {
   "cell_type": "markdown",
   "id": "07e3e90d",
   "metadata": {},
   "source": [
    "The jupyter notebook provides a comprehensive analysis of tabular data, focusing on various characteristics such as data types, number of rows, and number of columns. By examining these attributes, the report offers effective understanding of the dataset, enabling data analysts to gain insights and make informed decisions.\n",
    "\n",
    "In addition to descriptive statistics, the jupyter notebook utilizes graphical representations to visualize the distribution of numerical data and explores feature correlations. Through correlation plots, the relationships between different features are analyzed, revealing potential associations and dependencies within the dataset. These insights further enhance the understanding of the data and help identify key variables that may influence the target outcome.\n",
    "\n",
    "The jupyter notebook also investigates the distribution of categories for string features and provides class imbalance measures for classification scenarios. By assessing the balance of classes within the dataset, it highlights potential challenges in training models and making accurate predictions. This analysis is particularly valuable in machine learning tasks, as it helps to identify strategies for handling class imbalances and improving the performance of classification algorithms."
   ]
  },
  {
   "cell_type": "markdown",
   "id": "a3c04873",
   "metadata": {},
   "source": [
    "## Read dataset and set target column"
   ]
  },
  {
   "cell_type": "markdown",
   "id": "6c1cddb4",
   "metadata": {},
   "source": [
    "### Read the csv file as pandas dataframe"
   ]
  },
  {
   "cell_type": "code",
   "execution_count": null,
   "id": "9a51c69f",
   "metadata": {},
   "outputs": [],
   "source": [
    "import pandas as pd\n",
    "df = pd.read_csv('datasets/classification/wine/wine.csv')"
   ]
  },
  {
   "cell_type": "markdown",
   "id": "0e875dfb",
   "metadata": {},
   "source": [
    "### Set the target column name"
   ]
  },
  {
   "cell_type": "code",
   "execution_count": null,
   "id": "56eec154",
   "metadata": {},
   "outputs": [],
   "source": [
    "target_column = 'target'"
   ]
  },
  {
   "cell_type": "markdown",
   "id": "545a64a9",
   "metadata": {},
   "source": [
    "## Display dataset statistics and characteristics\n",
    "In this section we report basic cardinality of the dataset like number of rows and number of columns. We report the data types of the columns in the dataset. Some columns are numeric, representing either integers or floating-point values. Other columns are categorical, containing string or object values. Additionally, there may be datetime columns capturing specific timestamps or dates.\n",
    "\n",
    "We also report whether any column in the dataset has missing values. These missing values indicate instances where data is not available or was not recorded for certain records. Identifying and handling these missing values appropriately is crucial to ensure accurate analysis.\n",
    "\n",
    "Furthermore, the nature of the target variable in the dataset is essential to determine the objective of analysis. If the target variable is categorical, it implies a classification problem, where the goal is to assign instances to specific categories or classes. On the other hand, if the target variable is numeric or continuous, it signifies a regression problem, where the focus lies in predicting a numeric value based on other variables.\n",
    "\n",
    "Understanding these various aspects of the dataset lays the foundation for further exploration, analysis, and modeling tasks."
   ]
  },
  {
   "cell_type": "markdown",
   "id": "548858c8",
   "metadata": {},
   "source": [
    "### Get the number of rows in pandas dataframe"
   ]
  },
  {
   "cell_type": "code",
   "execution_count": null,
   "id": "5dacb90b",
   "metadata": {},
   "outputs": [],
   "source": [
    "df.shape[0]"
   ]
  },
  {
   "cell_type": "markdown",
   "id": "c0c608f2",
   "metadata": {},
   "source": [
    "### Get the number of columns in pandas dataframe"
   ]
  },
  {
   "cell_type": "code",
   "execution_count": null,
   "id": "c0ebbf5c",
   "metadata": {},
   "outputs": [],
   "source": [
    "df.shape[1]"
   ]
  },
  {
   "cell_type": "markdown",
   "id": "f7c94099",
   "metadata": {},
   "source": [
    "### Display the types of dataset."
   ]
  },
  {
   "cell_type": "code",
   "execution_count": null,
   "id": "05bd5082",
   "metadata": {},
   "outputs": [],
   "source": [
    "df.dtypes"
   ]
  },
  {
   "cell_type": "markdown",
   "id": "37e414eb",
   "metadata": {},
   "source": [
    "### Find if any features having missing values"
   ]
  },
  {
   "cell_type": "code",
   "execution_count": null,
   "id": "66839c19",
   "metadata": {},
   "outputs": [],
   "source": [
    "from data_understand.dataset_characteristics import find_columns_having_missing_values\n",
    "find_columns_having_missing_values(df)"
   ]
  },
  {
   "cell_type": "markdown",
   "id": "fc22636d",
   "metadata": {},
   "source": [
    "### Display the first ten rows of dataset."
   ]
  },
  {
   "cell_type": "code",
   "execution_count": null,
   "id": "2370a375",
   "metadata": {},
   "outputs": [],
   "source": [
    "df.head(10)"
   ]
  },
  {
   "cell_type": "markdown",
   "id": "d1a6a14c",
   "metadata": {},
   "source": [
    "## Visualize distributions of the dataset\n",
    "This section have different graphs using which you can visualize distibutions of different features in your dataset, visualize the distibution of various categories for categorical features, visualize the histogram distribution of numerical features and visualize the box plot distribution between categories in categorical columns and numerical columns."
   ]
  },
  {
   "cell_type": "markdown",
   "id": "214483b6",
   "metadata": {},
   "source": [
    "### Generate histogram distribution for continous features\n",
    "The section shows the histogram distribution of various numerical features in your dataset. The graphs also show a line chart which helps understand how the normal distribution will look if the numerical values in the distribution were normally distributed. These graphs also help gauge if the distibution of data in a particular column in skewed in any direction."
   ]
  },
  {
   "cell_type": "code",
   "execution_count": null,
   "id": "1d22e07d",
   "metadata": {},
   "outputs": [],
   "source": [
    "from data_understand.value_distributions import generate_histogram_distributions\n",
    "generate_histogram_distributions(df)"
   ]
  },
  {
   "cell_type": "markdown",
   "id": "76e1262a",
   "metadata": {},
   "source": [
    "### Generate frequency distribution for categorical features\n",
    "The section shows the distribution of individual categories in a given categorical column. The distribution helps to understand which categories in a given column are most/least prevelant in your dataset."
   ]
  },
  {
   "cell_type": "code",
   "execution_count": null,
   "id": "0f2391ed",
   "metadata": {},
   "outputs": [],
   "source": [
    "from data_understand.value_distributions import generate_cat_frequency_distributions\n",
    "generate_cat_frequency_distributions(df)"
   ]
  },
  {
   "cell_type": "markdown",
   "id": "03a901e6",
   "metadata": {},
   "source": [
    "### Generate box plot distributions between categories in catergorical and numerical features\n",
    "The section shows the box plot distribution of between the categories in categorical columns and numerical values in a numerical column. These graphs help in uncovering patterns that exist between various categories in a categorical column with the values in the numerical columns."
   ]
  },
  {
   "cell_type": "code",
   "execution_count": null,
   "id": "7eb01e3c",
   "metadata": {},
   "outputs": [],
   "source": [
    "from data_understand.value_distributions import generate_box_plot_distributions\n",
    "generate_box_plot_distributions(df)"
   ]
  },
  {
   "cell_type": "markdown",
   "id": "8b4002b2",
   "metadata": {},
   "source": [
    "## Feature Correlations\n",
    "This section shows the numerical feature pairs having positive and negative correlation. The correlation have been computed using [Pearson correlation coefficient](https://en.wikipedia.org/wiki/Pearson_correlation_coefficient). Examination of feature correlation can help find if the data has [leaky features](https://en.wikipedia.org/wiki/Leakage_(machine_learning))."
   ]
  },
  {
   "cell_type": "markdown",
   "id": "92bb8053",
   "metadata": {},
   "source": [
    "### Generate a table for numerical features pairs having positive feature correlation"
   ]
  },
  {
   "cell_type": "code",
   "execution_count": null,
   "id": "32d6bc3e",
   "metadata": {},
   "outputs": [],
   "source": [
    "from data_understand.feature_correlation import get_top_k_postively_correlated_feature_pairs\n",
    "get_top_k_postively_correlated_feature_pairs(df, 5)"
   ]
  },
  {
   "cell_type": "markdown",
   "id": "7019f6cd",
   "metadata": {},
   "source": [
    "### Generate a table for numerical features pairs having negative feature correlation"
   ]
  },
  {
   "cell_type": "code",
   "execution_count": null,
   "id": "6d282b29",
   "metadata": {},
   "outputs": [],
   "source": [
    "from data_understand.feature_correlation import get_top_k_negatively_correlated_feature_pairs\n",
    "get_top_k_negatively_correlated_feature_pairs(df, 5)"
   ]
  },
  {
   "cell_type": "markdown",
   "id": "a5a47fef",
   "metadata": {},
   "source": [
    "### Generate feature correlation graph for numerical features\n",
    "Feature correlation graph showing the scatter plot between any two numerical features. This graph helps to understand if there are any correlation between numerical features."
   ]
  },
  {
   "cell_type": "code",
   "execution_count": null,
   "id": "b7607663",
   "metadata": {},
   "outputs": [],
   "source": [
    "from data_understand.feature_correlation import generate_correlation_matrices\n",
    "generate_correlation_matrices(df)"
   ]
  },
  {
   "cell_type": "markdown",
   "id": "4080ae90",
   "metadata": {},
   "source": [
    "## Find target column imbalances in classification scenarios\n",
    "In this section we show statistics to bring out the imbalance between the different classes in the target column for a classification problem. This will help you learn if you need to address the issue of [class imbalance](https://developers.google.com/machine-learning/data-prep/construct/sampling-splitting/imbalanced-data) in your dataset."
   ]
  },
  {
   "cell_type": "markdown",
   "id": "4a492b72",
   "metadata": {},
   "source": [
    "### Find if there is any class imbalance in the dataset for classification scenarios."
   ]
  },
  {
   "cell_type": "code",
   "execution_count": null,
   "id": "a4543822",
   "metadata": {},
   "outputs": [],
   "source": [
    "from data_understand.class_imbalance import find_target_column_imbalance\n",
    "find_target_column_imbalance(df, target_column)"
   ]
  },
  {
   "cell_type": "markdown",
   "id": "a6bd781c",
   "metadata": {},
   "source": [
    "## References\n",
    "You can visit the following links for further exploration:- \n",
    "- [data.understand](https://github.com/ggupta2005/data.understand)"
   ]
  }
 ],
 "metadata": {
  "title": "Understanding the data in datasets/classification/wine/wine.csv"
 },
 "nbformat": 4,
 "nbformat_minor": 5
}
