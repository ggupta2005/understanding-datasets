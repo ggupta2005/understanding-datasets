{
 "cells": [
  {
   "cell_type": "markdown",
   "id": "a6b07c61",
   "metadata": {},
   "source": [
    "# Understanding the data in datasets/regression/energy/energy.csv"
   ]
  },
  {
   "cell_type": "markdown",
   "id": "2172c553",
   "metadata": {},
   "source": [
    "The jupyter notebook provides a comprehensive analysis of tabular data, focusing on various characteristics such as data types, number of rows, and number of columns. By examining these attributes, the report offers effective understanding of the dataset, enabling data analysts to gain insights and make informed decisions.\n",
    "\n",
    "In addition to descriptive statistics, the jupyter notebook utilizes graphical representations to visualize the distribution of numerical data and explores feature correlations. Through correlation plots, the relationships between different features are analyzed, revealing potential associations and dependencies within the dataset. These insights further enhance the understanding of the data and help identify key variables that may influence the target outcome.\n",
    "\n",
    "The jupyter notebook also investigates the distribution of categories for string features and provides class imbalance measures for classification scenarios. By assessing the balance of classes within the dataset, it highlights potential challenges in training models and making accurate predictions. This analysis is particularly valuable in machine learning tasks, as it helps to identify strategies for handling class imbalances and improving the performance of classification algorithms."
   ]
  },
  {
   "cell_type": "markdown",
   "id": "c1bf7de2",
   "metadata": {},
   "source": [
    "## Read dataset and set target column"
   ]
  },
  {
   "cell_type": "markdown",
   "id": "63da3919",
   "metadata": {},
   "source": [
    "### Read the csv file as pandas dataframe"
   ]
  },
  {
   "cell_type": "code",
   "execution_count": null,
   "id": "6f9164f3",
   "metadata": {},
   "outputs": [],
   "source": [
    "import pandas as pd\n",
    "df = pd.read_csv('datasets/regression/energy/energy.csv')"
   ]
  },
  {
   "cell_type": "markdown",
   "id": "88248702",
   "metadata": {},
   "source": [
    "### Set the target column name"
   ]
  },
  {
   "cell_type": "code",
   "execution_count": null,
   "id": "72183a3e",
   "metadata": {},
   "outputs": [],
   "source": [
    "target_column = 'target'"
   ]
  },
  {
   "cell_type": "markdown",
   "id": "c5a94858",
   "metadata": {},
   "source": [
    "## Display dataset statistics and characteristics\n",
    "In this section we report basic cardinality of the dataset like number of rows and number of columns. We report the data types of the columns in the dataset. Some columns are numeric, representing either integers or floating-point values. Other columns are categorical, containing string or object values. Additionally, there may be datetime columns capturing specific timestamps or dates.\n",
    "\n",
    "We also report whether any column in the dataset has missing values. These missing values indicate instances where data is not available or was not recorded for certain records. Identifying and handling these missing values appropriately is crucial to ensure accurate analysis.\n",
    "\n",
    "Furthermore, the nature of the target variable in the dataset is essential to determine the objective of analysis. If the target variable is categorical, it implies a classification problem, where the goal is to assign instances to specific categories or classes. On the other hand, if the target variable is numeric or continuous, it signifies a regression problem, where the focus lies in predicting a numeric value based on other variables.\n",
    "\n",
    "Understanding these various aspects of the dataset lays the foundation for further exploration, analysis, and modeling tasks."
   ]
  },
  {
   "cell_type": "markdown",
   "id": "ac1b81e3",
   "metadata": {},
   "source": [
    "### Get the number of rows in pandas dataframe"
   ]
  },
  {
   "cell_type": "code",
   "execution_count": null,
   "id": "4532cd35",
   "metadata": {},
   "outputs": [],
   "source": [
    "df.shape[0]"
   ]
  },
  {
   "cell_type": "markdown",
   "id": "1f62b33b",
   "metadata": {},
   "source": [
    "### Get the number of columns in pandas dataframe"
   ]
  },
  {
   "cell_type": "code",
   "execution_count": null,
   "id": "f1ea383e",
   "metadata": {},
   "outputs": [],
   "source": [
    "df.shape[1]"
   ]
  },
  {
   "cell_type": "markdown",
   "id": "ff8e9a8c",
   "metadata": {},
   "source": [
    "### Display the types of dataset."
   ]
  },
  {
   "cell_type": "code",
   "execution_count": null,
   "id": "badb1d8c",
   "metadata": {},
   "outputs": [],
   "source": [
    "df.dtypes"
   ]
  },
  {
   "cell_type": "markdown",
   "id": "ed8fac82",
   "metadata": {},
   "source": [
    "### Find if any features having missing values"
   ]
  },
  {
   "cell_type": "code",
   "execution_count": null,
   "id": "415d8ed9",
   "metadata": {},
   "outputs": [],
   "source": [
    "from data_understand.dataset_characteristics import find_columns_having_missing_values\n",
    "find_columns_having_missing_values(df)"
   ]
  },
  {
   "cell_type": "markdown",
   "id": "a8b03c41",
   "metadata": {},
   "source": [
    "### Display the first ten rows of dataset."
   ]
  },
  {
   "cell_type": "code",
   "execution_count": null,
   "id": "0564e88b",
   "metadata": {},
   "outputs": [],
   "source": [
    "df.head(10)"
   ]
  },
  {
   "cell_type": "markdown",
   "id": "87a376e2",
   "metadata": {},
   "source": [
    "## Visualize distributions of the dataset\n",
    "This section have different graphs using which you can visualize distibutions of different features in your dataset, visualize the distibution of various categories for categorical features, visualize the histogram distribution of numerical features and visualize the box plot distribution between categories in categorical columns and numerical columns."
   ]
  },
  {
   "cell_type": "markdown",
   "id": "3268c837",
   "metadata": {},
   "source": [
    "### Generate histogram distribution for continous features\n",
    "The section shows the histogram distribution of various numerical features in your dataset. The graphs also show a line chart which helps understand how the normal distribution will look if the numerical values in the distribution were normally distributed. These graphs also help gauge if the distibution of data in a particular column in skewed in any direction."
   ]
  },
  {
   "cell_type": "code",
   "execution_count": null,
   "id": "c3763651",
   "metadata": {},
   "outputs": [],
   "source": [
    "from data_understand.value_distributions import generate_histogram_distributions\n",
    "generate_histogram_distributions(df)"
   ]
  },
  {
   "cell_type": "markdown",
   "id": "fce51349",
   "metadata": {},
   "source": [
    "### Generate frequency distribution for categorical features\n",
    "The section shows the distribution of individual categories in a given categorical column. The distribution helps to understand which categories in a given column are most/least prevelant in your dataset."
   ]
  },
  {
   "cell_type": "code",
   "execution_count": null,
   "id": "33ee7c4e",
   "metadata": {},
   "outputs": [],
   "source": [
    "from data_understand.value_distributions import generate_cat_frequency_distributions\n",
    "generate_cat_frequency_distributions(df)"
   ]
  },
  {
   "cell_type": "markdown",
   "id": "c27e3d65",
   "metadata": {},
   "source": [
    "### Generate box plot distributions between categories in catergorical and numerical features\n",
    "The section shows the box plot distribution of between the categories in categorical columns and numerical values in a numerical column. These graphs help in uncovering patterns that exist between various categories in a categorical column with the values in the numerical columns."
   ]
  },
  {
   "cell_type": "code",
   "execution_count": null,
   "id": "47288fc1",
   "metadata": {},
   "outputs": [],
   "source": [
    "from data_understand.value_distributions import generate_box_plot_distributions\n",
    "generate_box_plot_distributions(df)"
   ]
  },
  {
   "cell_type": "markdown",
   "id": "a830503b",
   "metadata": {},
   "source": [
    "## Feature Correlations\n",
    "This section shows the numerical feature pairs having positive and negative correlation. The correlation have been computed using [Pearson correlation coefficient](https://en.wikipedia.org/wiki/Pearson_correlation_coefficient). Examination of feature correlation can help find if the data has [leaky features](https://en.wikipedia.org/wiki/Leakage_(machine_learning))."
   ]
  },
  {
   "cell_type": "markdown",
   "id": "bdc77d32",
   "metadata": {},
   "source": [
    "### Generate a table for numerical features pairs having positive feature correlation"
   ]
  },
  {
   "cell_type": "code",
   "execution_count": null,
   "id": "4d1cb37b",
   "metadata": {},
   "outputs": [],
   "source": [
    "from data_understand.feature_correlation import get_top_k_postively_correlated_feature_pairs\n",
    "get_top_k_postively_correlated_feature_pairs(df, 5)"
   ]
  },
  {
   "cell_type": "markdown",
   "id": "9976f03c",
   "metadata": {},
   "source": [
    "### Generate a table for numerical features pairs having negative feature correlation"
   ]
  },
  {
   "cell_type": "code",
   "execution_count": null,
   "id": "4ae9cc9b",
   "metadata": {},
   "outputs": [],
   "source": [
    "from data_understand.feature_correlation import get_top_k_negatively_correlated_feature_pairs\n",
    "get_top_k_negatively_correlated_feature_pairs(df, 5)"
   ]
  },
  {
   "cell_type": "markdown",
   "id": "8672b07f",
   "metadata": {},
   "source": [
    "### Generate feature correlation graph for numerical features\n",
    "Feature correlation graph showing the scatter plot between any two numerical features. This graph helps to understand if there are any correlation between numerical features."
   ]
  },
  {
   "cell_type": "code",
   "execution_count": null,
   "id": "016517ce",
   "metadata": {},
   "outputs": [],
   "source": [
    "from data_understand.feature_correlation import generate_correlation_matrices\n",
    "generate_correlation_matrices(df)"
   ]
  },
  {
   "cell_type": "markdown",
   "id": "39b851e1",
   "metadata": {},
   "source": [
    "## Find target column imbalances in classification scenarios\n",
    "In this section we show statistics to bring out the imbalance between the different classes in the target column for a classification problem. This will help you learn if you need to address the issue of [class imbalance](https://developers.google.com/machine-learning/data-prep/construct/sampling-splitting/imbalanced-data) in your dataset."
   ]
  },
  {
   "cell_type": "markdown",
   "id": "9f815058",
   "metadata": {},
   "source": [
    "### Find if there is any class imbalance in the dataset for classification scenarios."
   ]
  },
  {
   "cell_type": "code",
   "execution_count": null,
   "id": "8f02df37",
   "metadata": {},
   "outputs": [],
   "source": [
    "from data_understand.class_imbalance import find_target_column_imbalance\n",
    "find_target_column_imbalance(df, target_column)"
   ]
  },
  {
   "cell_type": "markdown",
   "id": "c6591958",
   "metadata": {},
   "source": [
    "## References\n",
    "You can visit the following links for further exploration:- \n",
    "- [data.understand](https://github.com/ggupta2005/data.understand)"
   ]
  }
 ],
 "metadata": {
  "title": "Understanding the data in datasets/regression/energy/energy.csv"
 },
 "nbformat": 4,
 "nbformat_minor": 5
}
