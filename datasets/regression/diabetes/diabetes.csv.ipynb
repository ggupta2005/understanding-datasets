{
 "cells": [
  {
   "cell_type": "markdown",
   "id": "24957699",
   "metadata": {},
   "source": [
    "# Understanding the data in diabetes.csv"
   ]
  },
  {
   "cell_type": "markdown",
   "id": "cf6cf2f7",
   "metadata": {},
   "source": [
    "The jupyter notebook provides a comprehensive analysis of tabular data, focusing on various characteristics such as data types, number of rows, and number of columns. By examining these attributes, the report offers effective understanding of the dataset, enabling data analysts to gain insights and make informed decisions.\n",
    "\n",
    "In addition to descriptive statistics, the jupyter notebook utilizes graphical representations to visualize the distribution of numerical data and explores feature correlations. Through correlation plots, the relationships between different features are analyzed, revealing potential associations and dependencies within the dataset. These insights further enhance the understanding of the data and help identify key variables that may influence the target outcome.\n",
    "\n",
    "The jupyter notebook also investigates the distribution of categories for string features and provides class imbalance measures for classification scenarios. By assessing the balance of classes within the dataset, it highlights potential challenges in training models and making accurate predictions. This analysis is particularly valuable in machine learning tasks, as it helps to identify strategies for handling class imbalances and improving the performance of classification algorithms.\n",
    "\n",
    "This version of jupyter notebook has been generated from `0.0.6` version of `data-understand`."
   ]
  },
  {
   "cell_type": "markdown",
   "id": "85f82c06",
   "metadata": {},
   "source": [
    "## Read dataset and set target column"
   ]
  },
  {
   "cell_type": "markdown",
   "id": "6984f110",
   "metadata": {},
   "source": [
    "### Read the csv file as pandas dataframe"
   ]
  },
  {
   "cell_type": "code",
   "execution_count": null,
   "id": "7705eb95",
   "metadata": {},
   "outputs": [],
   "source": [
    "import pandas as pd\n",
    "df = pd.read_csv('diabetes.csv')"
   ]
  },
  {
   "cell_type": "markdown",
   "id": "d960c8c6",
   "metadata": {},
   "source": [
    "### Set the target column name"
   ]
  },
  {
   "cell_type": "code",
   "execution_count": null,
   "id": "42f0ca13",
   "metadata": {},
   "outputs": [],
   "source": [
    "target_column = 'target'"
   ]
  },
  {
   "cell_type": "markdown",
   "id": "4d241b49",
   "metadata": {},
   "source": [
    "## Display dataset statistics and characteristics\n",
    "In this section we report basic cardinality of the dataset like number of rows and number of columns. We report the data types of the columns in the dataset. Some columns are numeric, representing either integers or floating-point values. Other columns are categorical, containing string or object values. Additionally, there may be datetime columns capturing specific timestamps or dates.\n",
    "\n",
    "We also report whether any column in the dataset has missing values. These missing values indicate instances where data is not available or was not recorded for certain records. Identifying and handling these missing values appropriately is crucial to ensure accurate analysis.\n",
    "\n",
    "Furthermore, the nature of the target variable in the dataset is essential to determine the objective of analysis. If the target variable is categorical, it implies a classification problem, where the goal is to assign instances to specific categories or classes. On the other hand, if the target variable is numeric or continuous, it signifies a regression problem, where the focus lies in predicting a numeric value based on other variables.\n",
    "\n",
    "Understanding these various aspects of the dataset lays the foundation for further exploration, analysis, and modeling tasks."
   ]
  },
  {
   "cell_type": "markdown",
   "id": "0296946c",
   "metadata": {},
   "source": [
    "### Get the number of rows in pandas dataframe"
   ]
  },
  {
   "cell_type": "code",
   "execution_count": null,
   "id": "8bf5a63e",
   "metadata": {},
   "outputs": [],
   "source": [
    "df.shape[0]"
   ]
  },
  {
   "cell_type": "markdown",
   "id": "b9969d6a",
   "metadata": {},
   "source": [
    "### Get the number of columns in pandas dataframe"
   ]
  },
  {
   "cell_type": "code",
   "execution_count": null,
   "id": "d7578e7b",
   "metadata": {},
   "outputs": [],
   "source": [
    "df.shape[1]"
   ]
  },
  {
   "cell_type": "markdown",
   "id": "212d4f6d",
   "metadata": {},
   "source": [
    "### Display the types of dataset."
   ]
  },
  {
   "cell_type": "code",
   "execution_count": null,
   "id": "5e0d32e5",
   "metadata": {},
   "outputs": [],
   "source": [
    "df.dtypes"
   ]
  },
  {
   "cell_type": "markdown",
   "id": "ead27914",
   "metadata": {},
   "source": [
    "### Find if any features having missing values"
   ]
  },
  {
   "cell_type": "code",
   "execution_count": null,
   "id": "9bfde5ec",
   "metadata": {},
   "outputs": [],
   "source": [
    "from data_understand.dataset_characteristics import find_columns_having_missing_values\n",
    "find_columns_having_missing_values(df)"
   ]
  },
  {
   "cell_type": "markdown",
   "id": "73c57dd2",
   "metadata": {},
   "source": [
    "### Display the first ten rows of dataset."
   ]
  },
  {
   "cell_type": "code",
   "execution_count": null,
   "id": "1de4f302",
   "metadata": {},
   "outputs": [],
   "source": [
    "df.head(10)"
   ]
  },
  {
   "cell_type": "markdown",
   "id": "17412fa7",
   "metadata": {},
   "source": [
    "### Get the machine learning task type"
   ]
  },
  {
   "cell_type": "code",
   "execution_count": null,
   "id": "3aaaa8c2",
   "metadata": {},
   "outputs": [],
   "source": [
    "from data_understand.utils import get_ml_task_type\n",
    "get_ml_task_type(df, target_column='target')"
   ]
  },
  {
   "cell_type": "markdown",
   "id": "d4730e90",
   "metadata": {},
   "source": [
    "## Visualize distributions of the dataset\n",
    "This section have different graphs using which you can visualize distibutions of different features in your dataset, visualize the distibution of various categories for categorical features, visualize the histogram distribution of numerical features and visualize the box plot distribution between categories in categorical columns and numerical columns."
   ]
  },
  {
   "cell_type": "markdown",
   "id": "3cf27bc0",
   "metadata": {},
   "source": [
    "### Generate histogram distribution for continous features\n",
    "The section shows the histogram distribution of various numerical features in your dataset. The graphs also show a line chart which helps understand how the normal distribution will look if the numerical values in the distribution were normally distributed. These graphs also help gauge if the distibution of data in a particular column in skewed in any direction."
   ]
  },
  {
   "cell_type": "code",
   "execution_count": null,
   "id": "14445109",
   "metadata": {},
   "outputs": [],
   "source": [
    "from data_understand.value_distributions import generate_histogram_distributions\n",
    "generate_histogram_distributions(df)"
   ]
  },
  {
   "cell_type": "markdown",
   "id": "b01d4a7f",
   "metadata": {},
   "source": [
    "### Generate frequency distribution for categorical features\n",
    "The section shows the distribution of individual categories in a given categorical column. The distribution helps to understand which categories in a given column are most/least prevelant in your dataset."
   ]
  },
  {
   "cell_type": "code",
   "execution_count": null,
   "id": "8f7ec8bc",
   "metadata": {},
   "outputs": [],
   "source": [
    "from data_understand.value_distributions import generate_cat_frequency_distributions\n",
    "generate_cat_frequency_distributions(df)"
   ]
  },
  {
   "cell_type": "markdown",
   "id": "70311c13",
   "metadata": {},
   "source": [
    "### Generate box plot distributions between categories in catergorical and numerical features\n",
    "The section shows the box plot distribution of between the categories in categorical columns and numerical values in a numerical column. These graphs help in uncovering patterns that exist between various categories in a categorical column with the values in the numerical columns.The categorical columns having 15 categories or less are choosen for box plot distribution because the box plot visualization is not useful for larger number of categories."
   ]
  },
  {
   "cell_type": "code",
   "execution_count": null,
   "id": "1c79b1d3",
   "metadata": {},
   "outputs": [],
   "source": [
    "from data_understand.value_distributions import generate_box_plot_distributions\n",
    "generate_box_plot_distributions(df)"
   ]
  },
  {
   "cell_type": "markdown",
   "id": "c9d011ae",
   "metadata": {},
   "source": [
    "## Feature Correlations\n",
    "This section shows the numerical feature pairs having positive and negative correlation. The correlation have been computed using [Pearson correlation coefficient](https://en.wikipedia.org/wiki/Pearson_correlation_coefficient). Examination of feature correlation can help find if the data has [leaky features](https://en.wikipedia.org/wiki/Leakage_(machine_learning))."
   ]
  },
  {
   "cell_type": "markdown",
   "id": "3f3323a2",
   "metadata": {},
   "source": [
    "### Generate a table for numerical features pairs having positive feature correlation"
   ]
  },
  {
   "cell_type": "code",
   "execution_count": null,
   "id": "66d4c505",
   "metadata": {},
   "outputs": [],
   "source": [
    "from data_understand.feature_correlation import get_top_k_postively_correlated_feature_pairs\n",
    "get_top_k_postively_correlated_feature_pairs(df, 5)"
   ]
  },
  {
   "cell_type": "markdown",
   "id": "2459be3c",
   "metadata": {},
   "source": [
    "### Generate a table for numerical features pairs having negative feature correlation"
   ]
  },
  {
   "cell_type": "code",
   "execution_count": null,
   "id": "a8cafad4",
   "metadata": {},
   "outputs": [],
   "source": [
    "from data_understand.feature_correlation import get_top_k_negatively_correlated_feature_pairs\n",
    "get_top_k_negatively_correlated_feature_pairs(df, 5)"
   ]
  },
  {
   "cell_type": "markdown",
   "id": "bbdba031",
   "metadata": {},
   "source": [
    "### Generate feature correlation graph for numerical features\n",
    "Feature correlation graph showing the scatter plot between any two numerical features. This graph helps to understand if there are any correlation between numerical features."
   ]
  },
  {
   "cell_type": "code",
   "execution_count": null,
   "id": "a6e02bf5",
   "metadata": {},
   "outputs": [],
   "source": [
    "from data_understand.feature_correlation import generate_correlation_matrices\n",
    "generate_correlation_matrices(df)"
   ]
  },
  {
   "cell_type": "markdown",
   "id": "8c99d805",
   "metadata": {},
   "source": [
    "## Find target column imbalances in classification scenarios\n",
    "In this section we show statistics to bring out the imbalance between the different classes in the target column for a classification problem. This will help you learn if you need to address the issue of [class imbalance](https://developers.google.com/machine-learning/data-prep/construct/sampling-splitting/imbalanced-data) in your dataset."
   ]
  },
  {
   "cell_type": "markdown",
   "id": "a84ed83c",
   "metadata": {},
   "source": [
    "### Find if there is any class imbalance in the dataset for classification scenarios."
   ]
  },
  {
   "cell_type": "code",
   "execution_count": null,
   "id": "4a4d7d41",
   "metadata": {},
   "outputs": [],
   "source": [
    "from data_understand.class_imbalance import find_target_column_imbalance\n",
    "find_target_column_imbalance(df, target_column)"
   ]
  },
  {
   "cell_type": "markdown",
   "id": "cbf9ff51",
   "metadata": {},
   "source": [
    "## References\n",
    "You can visit the following links for further exploration:- \n",
    "- [data.understand](https://github.com/ggupta2005/data.understand)"
   ]
  }
 ],
 "metadata": {
  "title": "Understanding the data in diabetes.csv"
 },
 "nbformat": 4,
 "nbformat_minor": 5
}
